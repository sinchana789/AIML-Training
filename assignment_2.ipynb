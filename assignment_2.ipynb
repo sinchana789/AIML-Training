{
  "nbformat": 4,
  "nbformat_minor": 0,
  "metadata": {
    "colab": {
      "provenance": []
    },
    "kernelspec": {
      "name": "python3",
      "display_name": "Python 3"
    },
    "language_info": {
      "name": "python"
    }
  },
  "cells": [
    {
      "cell_type": "code",
      "source": [
        "import numpy as np\n",
        "\n",
        "# Function to perform matrix multiplication\n",
        "def matrix_multiply(A, B):\n",
        "    return np.dot(A, B)\n",
        "\n",
        "# Example matrices\n",
        "A = np.array([[1, 2],\n",
        "              [3, 4]])\n",
        "B = np.array([[5, 6],\n",
        "              [7, 8]])\n",
        "\n",
        "# Perform multiplication\n",
        "result = matrix_multiply(A, B)\n",
        "print(\"Matrix A:\\n\", A)\n",
        "print(\"Matrix B:\\n\", B)\n",
        "print(\"Matrix Multiplication Result:\\n\", result)"
      ],
      "metadata": {
        "colab": {
          "base_uri": "https://localhost:8080/"
        },
        "id": "dKbwfvHoYD7n",
        "outputId": "78d1ae6a-d7e3-4fb4-f810-584338d37cd4"
      },
      "execution_count": null,
      "outputs": [
        {
          "output_type": "stream",
          "name": "stdout",
          "text": [
            "Matrix A:\n",
            " [[1 2]\n",
            " [3 4]]\n",
            "Matrix B:\n",
            " [[5 6]\n",
            " [7 8]]\n",
            "Matrix Multiplication Result:\n",
            " [[19 22]\n",
            " [43 50]]\n"
          ]
        }
      ]
    },
    {
      "cell_type": "code",
      "source": [
        "data = [10, 15, 20, 25, 30]"
      ],
      "metadata": {
        "id": "Bq_VTHswYNnw"
      },
      "execution_count": null,
      "outputs": []
    },
    {
      "cell_type": "code",
      "source": [
        "def min_max_scale(data):\n",
        "    min_val = min(data)\n",
        "    max_val = max(data)\n",
        "    return [(x - min_val) / (max_val - min_val) for x in data]\n",
        "\n",
        "scaled_data = min_max_scale(data)\n",
        "print(\"Original Data:\", data)\n",
        "print(\"Min-Max Scaled Data:\", scaled_data)"
      ],
      "metadata": {
        "colab": {
          "base_uri": "https://localhost:8080/"
        },
        "id": "AF6WB2H4YRuB",
        "outputId": "02c2db8e-bdb0-487b-8f4d-4e694d7f748c"
      },
      "execution_count": null,
      "outputs": [
        {
          "output_type": "stream",
          "name": "stdout",
          "text": [
            "Original Data: [10, 15, 20, 25, 30]\n",
            "Min-Max Scaled Data: [0.0, 0.25, 0.5, 0.75, 1.0]\n"
          ]
        }
      ]
    },
    {
      "cell_type": "code",
      "source": [
        "def standardize(data):\n",
        "    mean = sum(data) / len(data)\n",
        "    std = (sum([(x - mean) ** 2 for x in data]) / len(data)) ** 0.5\n",
        "    return [(x - mean) / std for x in data]\n",
        "\n",
        "standardized_data = standardize(data)\n",
        "print(\"Standardized Data:\", standardized_data)"
      ],
      "metadata": {
        "colab": {
          "base_uri": "https://localhost:8080/"
        },
        "id": "v60cG_2YYta-",
        "outputId": "86c92fe8-a60f-404a-9a14-540a879512f0"
      },
      "execution_count": null,
      "outputs": [
        {
          "output_type": "stream",
          "name": "stdout",
          "text": [
            "Standardized Data: [-1.414213562373095, -0.7071067811865475, 0.0, 0.7071067811865475, 1.414213562373095]\n"
          ]
        }
      ]
    }
  ]
}